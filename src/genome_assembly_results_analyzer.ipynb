{
 "cells": [
  {
   "cell_type": "code",
   "execution_count": 52,
   "id": "247a571f",
   "metadata": {},
   "outputs": [],
   "source": [
    "from Bio import SeqIO\n",
    "\n",
    "def get_n_50(lengths):\n",
    "    lengths = sorted(lengths, reverse=True)\n",
    "    cumulative_length = 0\n",
    "    for length in lengths:\n",
    "        cumulative_length += length\n",
    "        if cumulative_length / sum(lengths) >= 0.5:\n",
    "            return length\n",
    "        \n",
    "def analyze_lengths(lengths, type_):\n",
    "    print(type_)\n",
    "    print(\"Общее кол-во:\", len(lengths))\n",
    "    print(\"Общая длина:\", sum(lengths))\n",
    "    print(\"Максимальная длина\", max(lengths))\n",
    "    print(\"N50\", get_n_50(lengths))"
   ]
  },
  {
   "cell_type": "markdown",
   "id": "da31a3f4",
   "metadata": {},
   "source": [
    "## Анализ контигов"
   ]
  },
  {
   "cell_type": "code",
   "execution_count": 53,
   "id": "baf732bf",
   "metadata": {},
   "outputs": [
    {
     "name": "stdout",
     "output_type": "stream",
     "text": [
      "Контиги\n",
      "Общее кол-во: 637\n",
      "Общая длина: 3926263\n",
      "Максимальная длина 179304\n",
      "N50 47993\n"
     ]
    }
   ],
   "source": [
    "contig_lengths = []\n",
    "with open(\"../data/bacteria_contig.fa\") as input_handle:\n",
    "    for record in SeqIO.parse(input_handle, \"fasta\"):\n",
    "        contig_lengths.append(len(record))\n",
    "analyze_lengths(contig_lengths, \"Контиги\")"
   ]
  },
  {
   "cell_type": "markdown",
   "id": "de59e4c2",
   "metadata": {},
   "source": [
    "## Анализ скаффолдов"
   ]
  },
  {
   "cell_type": "code",
   "execution_count": 54,
   "id": "93aface5",
   "metadata": {},
   "outputs": [
    {
     "name": "stdout",
     "output_type": "stream",
     "text": [
      "Скаффолды\n",
      "Общее кол-во: 71\n",
      "Общая длина: 3872165\n",
      "Максимальная длина 3830280\n",
      "N50 3830280\n"
     ]
    }
   ],
   "source": [
    "scaffold_lengths = []\n",
    "largest_scaffold = None\n",
    "with open(\"../data/bacteria_scaffold.fa\") as input_handle:\n",
    "    for record in SeqIO.parse(input_handle, \"fasta\"):\n",
    "        scaffold_lengths.append(len(record))\n",
    "        if len(scaffold_lengths) == 0 or len(record) >= max(scaffold_lengths):\n",
    "            largest_scaffold = record\n",
    "            \n",
    "analyze_lengths(scaffold_lengths, \"Скаффолды\")"
   ]
  },
  {
   "cell_type": "code",
   "execution_count": 55,
   "id": "2afa4e4e",
   "metadata": {},
   "outputs": [],
   "source": [
    "import re\n",
    "\n",
    "gap_total_length = largest_scaffold.seq.count(\"N\")\n",
    "gap_total_count = len(re.findall(r\"N+\", str(largest_scaffold.seq)))"
   ]
  },
  {
   "cell_type": "code",
   "execution_count": 56,
   "id": "b09a9c22",
   "metadata": {},
   "outputs": [
    {
     "name": "stdout",
     "output_type": "stream",
     "text": [
      "Общее кол-во гэпов в самом длинном скаффолде: 65\n",
      "Сумма длин гэпов в самом длинном скаффолде: 6634\n"
     ]
    }
   ],
   "source": [
    "print(\"Общее кол-во гэпов в самом длинном скаффолде:\", gap_total_count)\n",
    "print(\"Сумма длин гэпов в самом длинном скаффолде:\", gap_total_length)"
   ]
  },
  {
   "cell_type": "markdown",
   "id": "c3cff9de",
   "metadata": {},
   "source": [
    "## Анализ скаффолдов после удаления гэпов"
   ]
  },
  {
   "cell_type": "code",
   "execution_count": 57,
   "id": "306853af",
   "metadata": {},
   "outputs": [],
   "source": [
    "largest_scaffold_gc = None\n",
    "with open(\"../data/bacteria_gapClosed.fa\") as input_handle:\n",
    "    for record in SeqIO.parse(input_handle, \"fasta\"):\n",
    "        if largest_scaffold_gc is None or len(record) >= len(largest_scaffold_gc):\n",
    "            largest_scaffold_gc = record"
   ]
  },
  {
   "cell_type": "code",
   "execution_count": 58,
   "id": "390189d4",
   "metadata": {},
   "outputs": [
    {
     "data": {
      "text/plain": [
       "3869160"
      ]
     },
     "execution_count": 58,
     "metadata": {},
     "output_type": "execute_result"
    }
   ],
   "source": [
    "len(largest_scaffold_gc)"
   ]
  },
  {
   "cell_type": "code",
   "execution_count": 59,
   "id": "44e1550c",
   "metadata": {},
   "outputs": [],
   "source": [
    "gap_total_length_gc = largest_scaffold_gc.seq.count(\"N\")\n",
    "gap_total_count_gc = len(re.findall(r\"N+\", str(largest_scaffold_gc.seq)))"
   ]
  },
  {
   "cell_type": "code",
   "execution_count": 60,
   "id": "96b1c810",
   "metadata": {},
   "outputs": [
    {
     "name": "stdout",
     "output_type": "stream",
     "text": [
      "После удаления гэпов\n",
      "Общее кол-во гэпов в самом длинном скаффолде: 10\n",
      "Сумма длин гэпов в самом длинном скаффолде: 1955\n"
     ]
    }
   ],
   "source": [
    "print(\"После удаления гэпов\")\n",
    "print(\"Общее кол-во гэпов в самом длинном скаффолде:\", gap_total_count_gc)\n",
    "print(\"Сумма длин гэпов в самом длинном скаффолде:\", gap_total_length_gc)"
   ]
  },
  {
   "cell_type": "code",
   "execution_count": 61,
   "id": "fe9f52e1",
   "metadata": {},
   "outputs": [
    {
     "data": {
      "text/plain": [
       "'scaffold1_cov231'"
      ]
     },
     "execution_count": 61,
     "metadata": {},
     "output_type": "execute_result"
    }
   ],
   "source": [
    "largest_scaffold_gc.id"
   ]
  },
  {
   "cell_type": "code",
   "execution_count": 62,
   "id": "57c2a927",
   "metadata": {},
   "outputs": [],
   "source": [
    "with open(\"../data/longest.fa\", \"w\") as f:\n",
    "    f.write(f\">{largest_scaffold_gc.id} Largest scaffold of our oil bacteria\\n\" + str(largest_scaffold_gc.seq))"
   ]
  },
  {
   "cell_type": "code",
   "execution_count": null,
   "id": "66067cfb",
   "metadata": {},
   "outputs": [],
   "source": []
  }
 ],
 "metadata": {
  "kernelspec": {
   "display_name": "Python 3 (ipykernel)",
   "language": "python",
   "name": "python3"
  },
  "language_info": {
   "codemirror_mode": {
    "name": "ipython",
    "version": 3
   },
   "file_extension": ".py",
   "mimetype": "text/x-python",
   "name": "python",
   "nbconvert_exporter": "python",
   "pygments_lexer": "ipython3",
   "version": "3.10.6"
  }
 },
 "nbformat": 4,
 "nbformat_minor": 5
}
